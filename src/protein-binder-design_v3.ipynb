{
 "cells": [
  {
   "cell_type": "markdown",
   "metadata": {},
   "source": [
    "# De Novo Protein Design Workflow (June 2025)"
   ]
  },
  {
   "cell_type": "markdown",
   "metadata": {},
   "source": [
    "Workflow for creating de novo protein binders using NVIDIA Inference Microservices (NIMs) deployed via NVIDIA Brev cloud GPU platform.\n",
    "\n",
    "Here, we take an alternative approach to bypass performing Alphafold2 structural prediction (step #1) on the cloud GPU. Instead, we first pre-compute the protein structure (.PDB) on [AlphaFold2 colab](https://colab.research.google.com/github/sokrypton/ColabFold/blob/main/AlphaFold2.ipynb#scrollTo=R_AH6JSXaeb2), given our input protein sequence. \n",
    "\n",
    "The resulting .PDB file can then be used as input into **RFDiffusion** to generate the protein backbones, then into **ProteinMPNN** to back-generate the sequence. Finally, the generated peptide structure is validated via [PRODIGY](https://rascar.science.uu.nl/prodigy/) (Gibbs Free Energy) and Rosetta [FlexPepDoc](https://r2.graylab.jhu.edu/auth/login?next=%2Fapps%2Fsubmit%2Fflexpepdock). "
   ]
  },
  {
   "cell_type": "markdown",
   "metadata": {},
   "source": [
    "## Getting Started \n",
    "\n",
    "### Software Pre-requisites\n",
    "* Python 3.11+\n",
    "\n",
    "### Hardware requirements\n",
    "* RFdiffusion runs on 1 x GPU, ≥12 GiB GPU memory, 15GB free SSD drive space\n",
    "* ProteinMPNN runs on 1 x GPU, ≥3 GiB GPU memory, 10GB free SSD drive space\n",
    "Total: 2 x GPU, 47 GiB GPU memory, 1.3TB GB SSD drive space, 60GiB RAM,24 CPU\n",
    "\n",
    "### Ensure that you have these files:\n",
    "* `protein-binder-design_v3.ipynb` uploaded to a [public Github repo](https://github.com/Keonapang/generative-protein-binder-design/blob/main/src/protein-binder-design.ipynb)\n",
    "*`docker-compose.yaml` (3MB) from the original [BioNeMo repo](https://github.com/NVIDIA-BioNeMo-blueprints/generative-protein-binder-design/blob/main/deploy/docker-compose.yaml)\n",
    "* `cycle1_alphafold2_output.pdb` (~80KB) pre-computed on [AlphaFold2 colab](https://colab.research.google.com/github/sokrypton/ColabFold/blob/main/AlphaFold2.ipynb#scrollTo=R_AH6JSXaeb2)\n",
    "* `cycle2_alphafold2_output.pdb` (~80KB) pre-computed on [AlphaFold2 colab](https://colab.research.google.com/github/sokrypton/ColabFold/blob/main/AlphaFold2.ipynb#scrollTo=R_AH6JSXaeb2)"
   ]
  },
  {
   "cell_type": "markdown",
   "metadata": {},
   "source": [
    "## 1. AlphaFold2\n",
    "\n",
    "Pre-compute the protein structure (.PDB) on [AlphaFold2 colab](https://colab.research.google.com/github/sokrypton/ColabFold/blob/main/AlphaFold2.ipynb#scrollTo=R_AH6JSXaeb2), given our input protein sequence. In our previous study design, we had identified 8 potential binding sites on the ApoB-100 protein:\n",
    "\n",
    "* Sequence \"1A\": \"LKTSQCTLKEVYGFNPEGKALLKKTKNSEEFAAAMSRYEL\" # A91-130\n",
    "* Sequence \"1B\": \"EEAKQVLFLDTVYGNCSTHFTVKTRKGNVATEISTERDLG\"  #A170-209\n",
    "* Sequence \"1C\": \"VAEAICKEQHLFLPFSYKNKYGMVAQVTQTLKLEDTPKIN\" # A255-294\n",
    "* Sequence \"2A\": \"CSTHILQWLKRVHANPLLIDVVTYLVALIPEPSAQQLREI\", # A390-429\n",
    "* Sequence \"2B\": \"GTQELLDIANYLMEQIQDDCTGDEDYTYLILRVIGNMGQT\", # A459-498\n",
    "* Sequence \"2D\": \"EQVKNFVASHIANILNSEELDIQDLKKLVKEALKESQLPT\" # A587-626\n",
    "\n",
    "**Inputs**:\n",
    "- `sequence`: EACH of the 8 amino acid sequences above\n",
    "\n",
    "**Outputs**:\n",
    "- Predicted structures in PDB format, for example `cycle1A_alphafold2_output.pdb`\n",
    "\n",
    "**Runtime**: \n",
    "- ~2hrs on Colab\n",
    "- 12 minutes for a ~550AA length target_sequence on a H100 GPU\n"
   ]
  },
  {
   "cell_type": "markdown",
   "metadata": {},
   "source": [
    "## Deploy NIM on NVIDIA Brev cloud GPU\n",
    "\n",
    "1. Go to [brev.nvidia](https://brev.nvidia.com/) and create a new **'Launchable'** with the following settings:\n",
    "    - **Compute**: A100 (80GiB GPU memory) 4 GPUs x 48 CPUs | 480GiB | 128GiB RAM ($7.92/hr)\n",
    "    - **Container**: use VM-mode (+jupyter notebook)\n",
    "    - **File**: Link to [jupyter notebook](https://github.com/Keonapang/generative-protein-binder-design/blob/main/src/protein-binder-design_v3.ipynb)\n",
    "\n",
    "2. Click **\"Launch\"** and **\"Go to Instance Page\"**. Wait ~15 minutes for the cloud server to initiate.\n",
    "\n",
    "3. When the server is ready, **upload** (i.e.drag and drop) 2 files from this repo: \n",
    "    - `./deploy/docker-compose.yaml` sets up the Docker images, networks, and complex dependencies required by each NIM. \n",
    "    - `./docs/cycle1_alphafold2_output.pdb` from AlphaFold2 on Colab\n",
    "\n",
    "4.  Open terminal on your local computer (Command Prompt for windows, Terminal for mac) and install brev:\n",
    "\n",
    "```bash\n",
    "    brew install brevdev/homebrew-/brev && brev login --token <****> # Install the CLI - THIS STEP NEEDS PERMISSION FROM ICT\n",
    "```\n",
    "5. On your NVIDIA Brev 'Instance' page > under **\"Access\"** tab, run code on your terminal to connect to VM instance:\n",
    "\n",
    "```bash\n",
    "    brev shell <instance-name> # find instance-name on brev.nvidias \n",
    "\n",
    "```\n",
    "5. Ensure that you've [generated](https://catalog.ngc.nvidia.com/orgs/nvidia/teams/clara/containers/bionemo-framework) a **NGC Personal API Key**, and run code:\n",
    "\n",
    "```bash\n",
    "    export NGC_CLI_API_KEY=<enter-key> # enter personal API key\n",
    "    docker login nvcr.io --username='$oauthtoken' --password=\"${NGC_CLI_API_KEY}\"\n",
    "\n",
    "    sudo apt-get install -y docker-compose\n",
    "    sudo apt install python3.11\n",
    "\n",
    "    ## Create the nim cache directory to download any model data to your local/server disk \n",
    "    mkdir -p ~/.cache/nim\n",
    "    chmod -R 777 ~/.cache/nim    ## Make it writable by the NIM\n",
    "    export HOST_NIM_CACHE=~/.cache/nim\n",
    "\n",
    "    # Run Docker compose\n",
    "    docker compose \n",
    "```\n"
   ]
  },
  {
   "cell_type": "markdown",
   "metadata": {},
   "source": [
    "Running **Docker Compose** takes 20-25mins total. When the containers start, they will begin by pulling the models for each NIM. The terminal will look like:\n",
    "\n",
    "```bash\n",
    "    [+] Running 4/4\n",
    "    ✔ Network protein-binder-design_default                 Created          0.1s \n",
    "    ✔ Container protein-binder-design-alphafold-multimer-1  Started          6.3s \n",
    "    ✔ Container protein-binder-design-rfdiffusion-1         Started          6.2s \n",
    "    ✔ Container protein-binder-design-proteinmpnn-1         Started          6.2s \n",
    "```"
   ]
  },
  {
   "cell_type": "markdown",
   "metadata": {},
   "source": [
    "6. **Finally, check the status** of the four running NIMS with the command:\n",
    "\n",
    "```bash\n",
    "    curl localhost:8081/v1/health/ready # alphafold2\n",
    "    curl localhost:8082/v1/health/ready # RFdiffusion\n",
    "    curl localhost:8083/v1/health/ready # Protein MPNN\n",
    "    curl localhost:8084/v1/health/ready # alphafold2-multimer\n",
    "\n",
    "    # check what dockers are running\n",
    "    docker container ls\n",
    "    docker container logs <CONTAINER-ID> # get CONTAINER-ID from command above\n",
    "    df -h       # check storage space\n",
    "```"
   ]
  },
  {
   "cell_type": "markdown",
   "metadata": {},
   "source": [
    "### Open python on the cloud GPU"
   ]
  },
  {
   "cell_type": "code",
   "execution_count": null,
   "metadata": {},
   "outputs": [],
   "source": [
    " import json\n",
    "import os\n",
    "import requests\n",
    "from enum import StrEnum, Enum # must be Python 3.11+ \n",
    "from typing import Tuple, Dict, Any, List\n",
    "from pathlib import Path"
   ]
  },
  {
   "cell_type": "markdown",
   "metadata": {},
   "source": [
    "We need to start up the NIMs and it will take some time for the models to download (**10-20mins**)."
   ]
  },
  {
   "cell_type": "code",
   "execution_count": null,
   "metadata": {},
   "outputs": [],
   "source": [
    "NVIDIA_API_KEY = os.getenv(\"NVIDIA_API_KEY\") or input(\"Paste Run Key: \") # see above for API instructions"
   ]
  },
  {
   "cell_type": "code",
   "execution_count": null,
   "metadata": {},
   "outputs": [],
   "source": [
    "HEADERS = {\n",
    "    \"Content-Type\": \"application/json\",\n",
    "    \"Authorization\": f\"Bearer {NVIDIA_API_KEY}\",\n",
    "    \"poll-seconds\": \"900\"\n",
    "}\n",
    "NIM_HOST_URL_BASE = \"http://localhost\"\n",
    "# 3 different endpoints for the models\n",
    "class NIM_PORTS(Enum):\n",
    "    RFDIFFUSION_PORT = 8082\n",
    "    PROTEINMPNN_PORT = 8083\n",
    "    AF2_MULTIMER_PORT = 8084\n",
    "\n",
    "class NIM_ENDPOINTS(StrEnum):\n",
    "    RFDIFFUSION =  \"biology/ipd/rfdiffusion/generate\"\n",
    "    PROTEINMPNN =  \"biology/ipd/proteinmpnn/predict\"\n",
    "    AF2_MULTIMER = \"protein-structure/alphafold2/multimer/predict-structure-from-sequences\"\n",
    "\n",
    "def query_nim(\n",
    "            payload: Dict[str, Any],\n",
    "            nim_endpoint: str,\n",
    "            headers: Dict[str, str] = HEADERS,\n",
    "            base_url: str = \"http://localhost\",\n",
    "            nim_port: int = 8080,\n",
    "            echo: bool = False) -> Tuple[int, Dict]:\n",
    "    function_url = f\"{base_url}:{nim_port}/{nim_endpoint}\"\n",
    "    if echo:\n",
    "        print(\"*\"*80)\n",
    "        print(f\"\\tURL: {function_url}\")\n",
    "        print(f\"\\tPayload: {payload}\")\n",
    "        print(\"*\"*80)\n",
    "    response = requests.post(function_url,\n",
    "                            json=payload,\n",
    "                            headers=headers)\n",
    "    if response.status_code == 200:\n",
    "        return response.status_code, response.json()\n",
    "    else:\n",
    "        raise Exception(f\"Error: response returned code [{response.status_code}], with text: {response.text}\")\n",
    "\n",
    "def check_nim_readiness(nim_port: NIM_PORTS,\n",
    "                        base_url: str = NIM_HOST_URL_BASE,\n",
    "                        endpoint: str = \"v1/health/ready\") -> bool:\n",
    "    \"\"\"\n",
    "    Return true if a NIM is ready.\n",
    "    \"\"\"\n",
    "    try:\n",
    "        response = requests.get(f\"{base_url}:{nim_port}/{endpoint}\")\n",
    "        d = response.json()\n",
    "        if \"status\" in d:\n",
    "            if d[\"status\"] == \"ready\":\n",
    "                return True\n",
    "        return False\n",
    "    except Exception as e:\n",
    "        print(e)\n",
    "        return False\n",
    "\n",
    "def get_reduced_pdb(pdb_id: str, rcsb_path: str = None) -> str:\n",
    "    pdb = Path(pdb_id)\n",
    "    if not pdb.exists() and rcsb_path is not None:\n",
    "        pdb.write_text(requests.get(rcsb_path).text)\n",
    "    lines = filter(lambda line: line.startswith(\"ATOM\"), pdb.read_text().split(\"\\n\"))\n",
    "    return \"\\n\".join(list(lines))\n",
    "\n",
    "class ExampleRequestParams:\n",
    "    def __init__(self,\n",
    "                target_sequence: str,\n",
    "                contigs: str, \n",
    "                hotspot_res: List[str],\n",
    "                input_pdb_chains: List[str],\n",
    "                ca_only: bool,\n",
    "                use_soluble_model: bool,\n",
    "                sampling_temp: List[float],\n",
    "                diffusion_steps: int = 15,\n",
    "                num_seq_per_target: int = 20):\n",
    "        self.target_sequence = target_sequence\n",
    "        self.contigs = contigs\n",
    "        self.hotspot_res = hotspot_res\n",
    "        self.input_pdb_chains = input_pdb_chains\n",
    "        self.ca_only = ca_only\n",
    "        self.use_soluble_model = use_soluble_model\n",
    "        self.sampling_temp = sampling_temp\n",
    "        self.diffusion_steps = diffusion_steps\n",
    "        self.num_seq_per_target = num_seq_per_target"
   ]
  },
  {
   "cell_type": "markdown",
   "metadata": {},
   "source": [
    "Test whether each NIM is running using the `check_nim_readiness` function:"
   ]
  },
  {
   "cell_type": "code",
   "execution_count": null,
   "metadata": {},
   "outputs": [],
   "source": [
    "status = check_nim_readiness(NIM_PORTS.RFDIFFUSION_PORT.value)\n",
    "print(f\"RFDiffusion ready: {status}\")\n",
    "status = check_nim_readiness(NIM_PORTS.PROTEINMPNN_PORT.value)\n",
    "print(f\"ProteinMPNN ready: {status}\")"
   ]
  },
  {
   "cell_type": "markdown",
   "metadata": {},
   "source": [
    "## 2. RFDiffusion\n",
    "\n",
    "RFDiffusion applies generative diffusion techniques to create novel protein structures. It excels in designing complex protein architectures, including binders and symmetric assemblies, by sculpting atomic clouds into functional proteins. This step is also available on Colab ([diffusion.ipynb](https://colab.research.google.com/github/sokrypton/ColabDesign/blob/v1.1.1/rf/examples/diffusion.ipynb#scrollTo=TuRUfQJZ4vkM)).\n",
    "\n",
    "**Inputs**\n",
    "- `input_pdb` is the protein target in PDB format\n",
    "- `contigs` is used to specify regions to work on. See the [RFDiffusion repo](https://github.com/RosettaCommons/RFdiffusion?tab=readme-ov-file#running-the-diffusion-script) under 'Binder Design' for more details. A20-60/0 50-100 means to generate a binder to chain A residue 20-60, where the binder is 50-100 residues long.\n",
    "- `hotspot_res` hot spot residues (specifically for binders)\n",
    "- `diffusion_steps` number of diffusion_steps\n",
    "\n",
    "**Output**:\n",
    "- `output_pdb` is the output pdb;`protein` is the input pdb\n",
    "\n",
    "**Runtime**: ~15 seconds (for ~550 AA target_sequence on the H100 GPU)\n",
    "\n",
    "## 3. ProteinMPNN\n",
    "ProteinMPNN (Protein Message Passing Neural Network) is a deep learning-based graph neural network that predicts amino acid sequences for given protein backbones, leveraging evolutionary, functional, and structural information to generate sequences that are likely to fold into the desired 3D structures. The task is to find AA sequence that results in a desired protein structure that is stable and functional.\n",
    "\n",
    "**Inputs**: \n",
    "- `input_pdb` Input protein for which amino acid sequences need to be predicted\n",
    "- `ca_only` Defaults to false, CA-only model addresses specific needs in protein design where focusing on the alpha carbon (CA)\n",
    "- `use_soluble_model` soluble vs non-soluble for membrane protein studies\n",
    "- `num_seq_per_target` defaults to 1. Number of seqs to generate that will fold into the given target protein structure\n",
    "- `sampling_temp` ranges from 0 to 1 ranges from 0 to 1 and controls the diversity of design outcomes by adjusting the probability values for the 20 amino acids at each sequence position. \n",
    " \n",
    "**Outputs**:\n",
    "- `ProteinMPNN.fa` (string): fasta file containing the designed sequence(s) for the given structure.\n",
    "- `scores`: (array) log-probabilities of the designed sequences, which indicate the likelihood of each sequence given the input structure\n",
    "- `probs`: (array) predicted probabilities for each amino acid at each position\n",
    "\n",
    "**Runtime**: < 30 seconds for 20 short sequences (on the H100 GPU)"
   ]
  },
  {
   "cell_type": "markdown",
   "metadata": {},
   "source": [
    "### **Create 8 peptide designs for each iteration**\n",
    "- 8 peptides; 10-20 amino acid residues long\n",
    "- peptides are distanced 30-40 AA apart\n",
    "- bewteen cycle 1 and cycle 2, there is about a 1000 amino acid gap "
   ]
  },
  {
   "cell_type": "code",
   "execution_count": null,
   "metadata": {
    "vscode": {
     "languageId": "shellscript"
    }
   },
   "outputs": [],
   "source": [
    "# EXECUTION\n",
    "num_seq = 1 # number of sequences to generate per target\n",
    "diffusion = 50 # number of diffusion steps (15-30 recommended)\n",
    "temp = 0.5 # sampling temperature (range: 0-1) to adjust the probability values for the 20 amino acids at each position, controls the diversity of the design outcomes\n",
    "\n",
    "for cycle in \"1A\" \"1B\" \"1C\" \"1D\" \"2A\" \"2B\" \"2C\" \"2D\"; do\n",
    "    python3.11  /home/ubuntu/3_protein_binder_design.py --cycle \"$cycle\" --num_seq \"$num_seq\" --diffusion \"$diffusion\" --temp \"$temp\"\n",
    "done "
   ]
  },
  {
   "cell_type": "markdown",
   "metadata": {},
   "source": [
    "**Example of a ProteinMPNN output**\n",
    "\n",
    "`3_cycle1A_1seqs_50diff_0.5temp_proteinmpnn.fasta`\n",
    "\n",
    "**>T=0.5, sample=1, score=2.0571, global_score=2.0571, seq_recovery=0.0000**\n",
    "**TQEQLAQNKKEERVKLEKQMS**\n",
    "\n",
    "* `T=0.5` - temperature 0.5 was used to sample sequences\n",
    "* `sample` - sequence sample no. 1, 2,...etc\n",
    "* `score` - average over residues that were designed negative log probability of sampled amino acids\n",
    "* `global score` - average over all residues in all chains negative log probability of sampled/fixed amino acids\n",
    "* `TQEQLAQNKKEERVKLEKQMS` - peptide chain that designed"
   ]
  },
  {
   "cell_type": "markdown",
   "metadata": {},
   "source": [
    "# MODEL VALIDATION\n",
    "\n",
    "### PRODIGY Gibbs Free Energy\n",
    "Provide the PDB ID of the target complex (protein + peptide) in multi-PDB format. [PRODIGY web server](https://rascar.science.uu.nl/prodigy/). Example of a multi-PDB format:\n",
    " \n",
    "### FlexPepDoc\n",
    "\n",
    "Please log in to GitHub to use the [FlexPepDoc ROSIE web server](https://r2.graylab.jhu.edu/auth/login?next=%2Fapps%2Fsubmit%2Fflexpepdock)."
   ]
  }
 ],
 "metadata": {
  "kernelspec": {
   "display_name": "base",
   "language": "python",
   "name": "python3"
  },
  "language_info": {
   "codemirror_mode": {
    "name": "ipython",
    "version": 3
   },
   "file_extension": ".py",
   "mimetype": "text/x-python",
   "name": "python",
   "nbconvert_exporter": "python",
   "pygments_lexer": "ipython3",
   "version": "3.11.5"
  }
 },
 "nbformat": 4,
 "nbformat_minor": 2
}
